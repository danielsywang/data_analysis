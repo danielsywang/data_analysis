{
 "cells": [
  {
   "cell_type": "code",
   "execution_count": 1,
   "metadata": {},
   "outputs": [
    {
     "name": "stdout",
     "output_type": "stream",
     "text": [
      "[[0.00757805 0.00603608]\n",
      " [0.00535353 0.00405624]\n",
      " [0.00704808 0.00561395]\n",
      " [0.00794669 0.00542086]\n",
      " [0.01915867 0.01212483]\n",
      " [0.00636144 0.00463092]\n",
      " [0.00982819 0.00711891]\n",
      " [0.00471267 0.00394621]]\n",
      "[[6.5 3.2 5.1 2. ]]\n",
      "[[0.00757805]\n",
      " [0.00535353]\n",
      " [0.00704808]\n",
      " [0.00794669]\n",
      " [0.01915867]\n",
      " [0.00636144]\n",
      " [0.00982819]\n",
      " [0.00471267]]\n"
     ]
    }
   ],
   "source": [
    "import numpy as np\n",
    "from sklearn.datasets import load_iris\n",
    "from sklearn.metrics.pairwise import rbf_kernel\n",
    "import pandas as pd\n",
    " \n",
    " \n",
    "    X, y = load_iris(return_X_y=True)\n",
    "    a = [1,2,3,4,5,6,7,8]\n",
    "    b = [110,111]\n",
    "    A = X[a]\n",
    "    B = X[b]\n",
    "    K = rbf_kernel(X=A,Y=B)\n",
    "    print(K)\n",
    "    c = [110]\n",
    "    C = X[c]\n",
    "    print(C)\n",
    "    K = rbf_kernel(X=A,Y=C)\n",
    "    print(K)\n"
   ]
  },
  {
   "cell_type": "code",
   "execution_count": 7,
   "metadata": {},
   "outputs": [
    {
     "data": {
      "text/plain": [
       "array([[1.        , 0.97775124, 0.97287468, 0.91164921, 0.74267258,\n",
       "        0.93706746, 0.95599748, 0.93706746],\n",
       "       [0.97775124, 1.        , 0.98511194, 0.93706746, 0.74453159,\n",
       "        0.98265224, 0.95839047, 0.95361047],\n",
       "       [0.97287468, 0.98511194, 1.        , 0.90032452, 0.71177032,\n",
       "        0.97287468, 0.93941306, 0.97775124],\n",
       "       [0.91164921, 0.93706746, 0.90032452, 1.        , 0.90937293,\n",
       "        0.94885432, 0.9875778 , 0.80856032],\n",
       "       [0.74267258, 0.74453159, 0.71177032, 0.90937293, 1.        ,\n",
       "        0.78075022, 0.8847059 , 0.5871353 ],\n",
       "       [0.93706746, 0.98265224, 0.97287468, 0.94885432, 0.78075022,\n",
       "        1.        , 0.95599748, 0.92774349],\n",
       "       [0.95599748, 0.95839047, 0.93941306, 0.9875778 , 0.8847059 ,\n",
       "        0.95599748, 1.        , 0.85641518],\n",
       "       [0.93706746, 0.95361047, 0.97775124, 0.80856032, 0.5871353 ,\n",
       "        0.92774349, 0.85641518, 1.        ]])"
      ]
     },
     "execution_count": 7,
     "metadata": {},
     "output_type": "execute_result"
    }
   ],
   "source": [
    " rbf_kernel(A)"
   ]
  },
  {
   "cell_type": "code",
   "execution_count": 8,
   "metadata": {},
   "outputs": [
    {
     "data": {
      "text/plain": [
       "array([[1.        , 0.92542702],\n",
       "       [0.92542702, 1.        ]])"
      ]
     },
     "execution_count": 8,
     "metadata": {},
     "output_type": "execute_result"
    }
   ],
   "source": [
    "rbf_kernel(B)"
   ]
  },
  {
   "cell_type": "code",
   "execution_count": 2,
   "metadata": {},
   "outputs": [
    {
     "data": {
      "text/plain": [
       "array([[4.9, 3. , 1.4, 0.2],\n",
       "       [4.7, 3.2, 1.3, 0.2],\n",
       "       [4.6, 3.1, 1.5, 0.2],\n",
       "       [5. , 3.6, 1.4, 0.2],\n",
       "       [5.4, 3.9, 1.7, 0.4],\n",
       "       [4.6, 3.4, 1.4, 0.3],\n",
       "       [5. , 3.4, 1.5, 0.2],\n",
       "       [4.4, 2.9, 1.4, 0.2]])"
      ]
     },
     "execution_count": 2,
     "metadata": {},
     "output_type": "execute_result"
    }
   ],
   "source": [
    "A"
   ]
  },
  {
   "cell_type": "code",
   "execution_count": 12,
   "metadata": {},
   "outputs": [
    {
     "data": {
      "text/plain": [
       "array([ 9.5,  9.4,  9.4, 10.2, 11.4,  9.7, 10.1,  8.9])"
      ]
     },
     "execution_count": 12,
     "metadata": {},
     "output_type": "execute_result"
    }
   ],
   "source": [
    "asum=np.sum(A,1)\n",
    "np.sum(A,1)"
   ]
  },
  {
   "cell_type": "code",
   "execution_count": 13,
   "metadata": {},
   "outputs": [
    {
     "data": {
      "text/plain": [
       "array([[ 9.5,  0. ,  0. ,  0. ,  0. ,  0. ,  0. ,  0. ],\n",
       "       [ 0. ,  9.4,  0. ,  0. ,  0. ,  0. ,  0. ,  0. ],\n",
       "       [ 0. ,  0. ,  9.4,  0. ,  0. ,  0. ,  0. ,  0. ],\n",
       "       [ 0. ,  0. ,  0. , 10.2,  0. ,  0. ,  0. ,  0. ],\n",
       "       [ 0. ,  0. ,  0. ,  0. , 11.4,  0. ,  0. ,  0. ],\n",
       "       [ 0. ,  0. ,  0. ,  0. ,  0. ,  9.7,  0. ,  0. ],\n",
       "       [ 0. ,  0. ,  0. ,  0. ,  0. ,  0. , 10.1,  0. ],\n",
       "       [ 0. ,  0. ,  0. ,  0. ,  0. ,  0. ,  0. ,  8.9]])"
      ]
     },
     "execution_count": 13,
     "metadata": {},
     "output_type": "execute_result"
    }
   ],
   "source": [
    "np.diag(asum)"
   ]
  },
  {
   "cell_type": "code",
   "execution_count": 16,
   "metadata": {},
   "outputs": [
    {
     "name": "stdout",
     "output_type": "stream",
     "text": [
      "Input array :  [2.0, 3.0, 8.0]\n",
      "Output array :  [0.5        0.33333333 0.125     ]\n"
     ]
    }
   ],
   "source": [
    "in_arr = [2., 3., 8.] \n",
    "print (\"Input array : \", in_arr) \n",
    "    \n",
    "out_arr = np.reciprocal(in_arr) \n",
    "print (\"Output array : \", out_arr) "
   ]
  },
  {
   "cell_type": "code",
   "execution_count": 15,
   "metadata": {},
   "outputs": [
    {
     "data": {
      "text/plain": [
       "array([0.32444284, 0.32616404, 0.32616404, 0.31311215, 0.29617444,\n",
       "       0.32108065, 0.31465839, 0.33520076])"
      ]
     },
     "execution_count": 15,
     "metadata": {},
     "output_type": "execute_result"
    }
   ],
   "source": [
    "np.reciprocal(np.sqrt(asum))"
   ]
  },
  {
   "cell_type": "code",
   "execution_count": null,
   "metadata": {},
   "outputs": [],
   "source": []
  },
  {
   "cell_type": "code",
   "execution_count": 24,
   "metadata": {},
   "outputs": [
    {
     "data": {
      "text/plain": [
       "array([[5.4, 3.7, 1.5, 0.2],\n",
       "       [5.6, 2.8, 4.9, 2. ],\n",
       "       [6. , 2.2, 4. , 1. ]])"
      ]
     },
     "execution_count": 24,
     "metadata": {},
     "output_type": "execute_result"
    }
   ],
   "source": [
    "d = [10,121,62]\n",
    "D=X[d]\n",
    "D"
   ]
  },
  {
   "cell_type": "code",
   "execution_count": 25,
   "metadata": {},
   "outputs": [
    {
     "data": {
      "text/plain": [
       "array([[1.        , 0.01999046, 0.09301449],\n",
       "       [0.01999046, 1.        , 0.55850037],\n",
       "       [0.09301449, 0.55850037, 1.        ]])"
      ]
     },
     "execution_count": 25,
     "metadata": {},
     "output_type": "execute_result"
    }
   ],
   "source": [
    "similarity=rbf_kernel(D)\n",
    "adjacency=similarity\n",
    "similarity"
   ]
  },
  {
   "cell_type": "code",
   "execution_count": 26,
   "metadata": {},
   "outputs": [
    {
     "data": {
      "text/plain": [
       "array([1.11300495, 1.57849083, 1.65151486])"
      ]
     },
     "execution_count": 26,
     "metadata": {},
     "output_type": "execute_result"
    }
   ],
   "source": [
    "degree_vector=np.sum(adjacency,1) #按行累加\n",
    "degree_vector"
   ]
  },
  {
   "cell_type": "code",
   "execution_count": 28,
   "metadata": {},
   "outputs": [
    {
     "data": {
      "text/plain": [
       "array([[1.11300495, 0.        , 0.        ],\n",
       "       [0.        , 1.57849083, 0.        ],\n",
       "       [0.        , 0.        , 1.65151486]])"
      ]
     },
     "execution_count": 28,
     "metadata": {},
     "output_type": "execute_result"
    }
   ],
   "source": [
    "degree=np.diag(degree_vector)\n",
    "degree"
   ]
  },
  {
   "cell_type": "code",
   "execution_count": 29,
   "metadata": {},
   "outputs": [
    {
     "data": {
      "text/plain": [
       "array([[ 0.11300495, -0.01999046, -0.09301449],\n",
       "       [-0.01999046,  0.57849083, -0.55850037],\n",
       "       [-0.09301449, -0.55850037,  0.65151486]])"
      ]
     },
     "execution_count": 29,
     "metadata": {},
     "output_type": "execute_result"
    }
   ],
   "source": [
    "laplacian=degree-adjacency\n",
    "laplacian"
   ]
  },
  {
   "cell_type": "code",
   "execution_count": 30,
   "metadata": {},
   "outputs": [
    {
     "data": {
      "text/plain": [
       "array([0.94787584, 0.7959375 , 0.77814182])"
      ]
     },
     "execution_count": 30,
     "metadata": {},
     "output_type": "execute_result"
    }
   ],
   "source": [
    "normaliser_vector=np.reciprocal(np.sqrt(degree_vector))\n",
    "normaliser_vector"
   ]
  },
  {
   "cell_type": "code",
   "execution_count": 31,
   "metadata": {},
   "outputs": [
    {
     "data": {
      "text/plain": [
       "array([[0.94787584, 0.        , 0.        ],\n",
       "       [0.        , 0.7959375 , 0.        ],\n",
       "       [0.        , 0.        , 0.77814182]])"
      ]
     },
     "execution_count": 31,
     "metadata": {},
     "output_type": "execute_result"
    }
   ],
   "source": [
    "normaliser=np.diag(normaliser_vector)\n",
    "normaliser"
   ]
  },
  {
   "cell_type": "code",
   "execution_count": 32,
   "metadata": {},
   "outputs": [
    {
     "data": {
      "text/plain": [
       "array([[ 0.10711466, -0.01894848, -0.08816619],\n",
       "       [-0.01591116,  0.46044255, -0.44453139],\n",
       "       [-0.07237846, -0.43459249,  0.50697096]])"
      ]
     },
     "execution_count": 32,
     "metadata": {},
     "output_type": "execute_result"
    }
   ],
   "source": [
    "normaliser.dot(laplacian)"
   ]
  },
  {
   "cell_type": "code",
   "execution_count": 33,
   "metadata": {},
   "outputs": [
    {
     "data": {
      "text/plain": [
       "array([[ 0.10711466, -0.01894848, -0.08816619],\n",
       "       [-0.01591116,  0.46044255, -0.44453139],\n",
       "       [-0.07237846, -0.43459249,  0.50697096]])"
      ]
     },
     "execution_count": 33,
     "metadata": {},
     "output_type": "execute_result"
    }
   ],
   "source": [
    "np.dot(normaliser,laplacian)"
   ]
  },
  {
   "cell_type": "code",
   "execution_count": 3,
   "metadata": {},
   "outputs": [],
   "source": [
    "import numpy as np\n",
    "import matplotlib.pyplot as plt\n",
    "\n",
    "x = np.arange(-4, 5, 1)\n",
    "y = np.array((x >= -2) & (x <= 2), dtype='int')"
   ]
  },
  {
   "cell_type": "code",
   "execution_count": 4,
   "metadata": {},
   "outputs": [
    {
     "data": {
      "text/plain": [
       "array([-4, -3, -2, -1,  0,  1,  2,  3,  4])"
      ]
     },
     "execution_count": 4,
     "metadata": {},
     "output_type": "execute_result"
    }
   ],
   "source": [
    "x"
   ]
  },
  {
   "cell_type": "code",
   "execution_count": 5,
   "metadata": {},
   "outputs": [
    {
     "data": {
      "text/plain": [
       "array([0, 0, 1, 1, 1, 1, 1, 0, 0])"
      ]
     },
     "execution_count": 5,
     "metadata": {},
     "output_type": "execute_result"
    }
   ],
   "source": [
    "y"
   ]
  },
  {
   "cell_type": "code",
   "execution_count": 6,
   "metadata": {},
   "outputs": [
    {
     "data": {
      "text/plain": [
       "array([-4, -3,  3,  4])"
      ]
     },
     "execution_count": 6,
     "metadata": {},
     "output_type": "execute_result"
    }
   ],
   "source": [
    "x[y==0]"
   ]
  },
  {
   "cell_type": "code",
   "execution_count": null,
   "metadata": {},
   "outputs": [],
   "source": []
  }
 ],
 "metadata": {
  "kernelspec": {
   "display_name": "Python 3",
   "language": "python",
   "name": "python3"
  },
  "language_info": {
   "codemirror_mode": {
    "name": "ipython",
    "version": 3
   },
   "file_extension": ".py",
   "mimetype": "text/x-python",
   "name": "python",
   "nbconvert_exporter": "python",
   "pygments_lexer": "ipython3",
   "version": "3.7.9"
  },
  "toc": {
   "base_numbering": 1,
   "nav_menu": {},
   "number_sections": true,
   "sideBar": true,
   "skip_h1_title": true,
   "title_cell": "Table of Contents",
   "title_sidebar": "Contents",
   "toc_cell": false,
   "toc_position": {},
   "toc_section_display": true,
   "toc_window_display": false
  },
  "varInspector": {
   "cols": {
    "lenName": 16,
    "lenType": 16,
    "lenVar": 40
   },
   "kernels_config": {
    "python": {
     "delete_cmd_postfix": "",
     "delete_cmd_prefix": "del ",
     "library": "var_list.py",
     "varRefreshCmd": "print(var_dic_list())"
    },
    "r": {
     "delete_cmd_postfix": ") ",
     "delete_cmd_prefix": "rm(",
     "library": "var_list.r",
     "varRefreshCmd": "cat(var_dic_list()) "
    }
   },
   "types_to_exclude": [
    "module",
    "function",
    "builtin_function_or_method",
    "instance",
    "_Feature"
   ],
   "window_display": false
  }
 },
 "nbformat": 4,
 "nbformat_minor": 5
}
